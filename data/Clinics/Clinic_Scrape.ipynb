{
 "cells": [
  {
   "cell_type": "markdown",
   "metadata": {},
   "source": [
    "# Health Services for \"Abuse, Rape and Domestic Violence Survivor Support\""
   ]
  },
  {
   "cell_type": "markdown",
   "metadata": {},
   "source": [
    "This notebook scrapes the data from https://www.healthsites.org.za <br>\n",
    "Description taken from the website:\n",
    "```\n",
    "ABOUT HEALTH SITES\n",
    "Health Sites contains an up-to-date database of health facilities in South Africa, which offer services such as free Medical Male Circumcision (MMC) , HIV Treatment, HIV Counselling and HIV Testing (HCT). Find an MMC clinic and get circumcised. Find a HIV Testing Centre and get tested.\n",
    "\n",
    "Medical male circumcision (MMC) is the most hygienic, safest way to be circumcised, and the only way to ensure that you get the full sexual and health benefits. Medical circumcisions are performed at MMC clinics and hospitals in South Africa.\n",
    "```\n",
    "It specifically targets health services for \"Abuse, Rape and Domestic Violence Survivor Support\".<br>\n",
    "The Province and health service has to be manually selected.<br>\n",
    "The resultant page is saved below to be scraped.\n",
    "\n",
    "I acquired the Name, adress, telephone number and gps coordinates for each centre.<br>\n",
    "The data will be saved in csv format for further use.\n",
    "\n",
    "There are other information that are available such as:\n",
    "- services offered\n",
    "- opening hours\n",
    "- municipality"
   ]
  },
  {
   "cell_type": "code",
   "execution_count": 68,
   "metadata": {},
   "outputs": [],
   "source": [
    "import pandas as pd\n",
    "import requests\n",
    "from bs4 import BeautifulSoup\n",
    "from time import sleep"
   ]
  },
  {
   "cell_type": "code",
   "execution_count": 6,
   "metadata": {},
   "outputs": [],
   "source": [
    "eastern_cape_url = \"https://www.healthsites.org.za/clinics-in-eastern-cape.html?field_category_tid=36620&widget-service=36620&widget-province=22950\""
   ]
  },
  {
   "cell_type": "code",
   "execution_count": 69,
   "metadata": {},
   "outputs": [],
   "source": [
    "northern_cape_url = 'https://www.healthsites.org.za/clinics-in-northern-cape.html?field_category_tid=36620&widget-service=36620&widget-province=31856'"
   ]
  },
  {
   "cell_type": "code",
   "execution_count": 70,
   "metadata": {},
   "outputs": [],
   "source": [
    "western_cape_url = 'https://www.healthsites.org.za/clinics-in-western-cape.html?field_category_tid=36620&widget-service=36620&widget-province=32286'"
   ]
  },
  {
   "cell_type": "code",
   "execution_count": 71,
   "metadata": {},
   "outputs": [],
   "source": [
    "free_state_url = 'https://www.healthsites.org.za/clinics-in-free-state.html?field_category_tid=36620&widget-service=36620&widget-province=24747'"
   ]
  },
  {
   "cell_type": "code",
   "execution_count": 72,
   "metadata": {},
   "outputs": [],
   "source": [
    "gauteng_url = 'https://www.healthsites.org.za/clinics-in-gauteng.html?field_category_tid=36620&widget-service=36620&widget-province=25366'"
   ]
  },
  {
   "cell_type": "code",
   "execution_count": 73,
   "metadata": {},
   "outputs": [],
   "source": [
    "kwazulu_url = 'https://www.healthsites.org.za/clinics-in-kwazulu-natal.html?field_category_tid=36620&widget-service=36620&widget-province=27795'"
   ]
  },
  {
   "cell_type": "code",
   "execution_count": 74,
   "metadata": {},
   "outputs": [],
   "source": [
    "limpopo_url = 'https://www.healthsites.org.za/clinics-in-limpopo.html?field_category_tid=36620&widget-service=36620&widget-province=29930'"
   ]
  },
  {
   "cell_type": "code",
   "execution_count": 75,
   "metadata": {},
   "outputs": [],
   "source": [
    "northwest_url = 'https://www.healthsites.org.za/clinics-in-north-west.html?field_category_tid=36620&widget-service=36620&widget-province=31171'"
   ]
  },
  {
   "cell_type": "code",
   "execution_count": 76,
   "metadata": {},
   "outputs": [],
   "source": [
    "mpumalanga_url = 'https://www.healthsites.org.za/clinics-in-mpumalanga.html?field_category_tid=36620&widget-service=36620&widget-province=29532'"
   ]
  },
  {
   "cell_type": "markdown",
   "metadata": {},
   "source": [
    "eastern cape done, now the rest"
   ]
  },
  {
   "cell_type": "code",
   "execution_count": 77,
   "metadata": {},
   "outputs": [],
   "source": [
    "province_urls = [northern_cape_url, western_cape_url, free_state_url, gauteng_url, kwazulu_url, limpopo_url, \n",
    "                 northwest_url, mpumalanga_url]"
   ]
  },
  {
   "cell_type": "code",
   "execution_count": 78,
   "metadata": {},
   "outputs": [],
   "source": [
    "csv_names = ['northern_cape_clinics', 'western_cape_clinics', 'free_state_clinics', 'gauteng_clinics', 'kwazulu_clinics', \n",
    "             'limpopo_clinics', 'northwest_clinics', 'mpumalanga_clinics']"
   ]
  },
  {
   "cell_type": "code",
   "execution_count": null,
   "metadata": {},
   "outputs": [],
   "source": []
  },
  {
   "cell_type": "markdown",
   "metadata": {},
   "source": [
    "### the scraper"
   ]
  },
  {
   "cell_type": "markdown",
   "metadata": {},
   "source": [
    "This should iterate through the list of province urls,  <br>and output csv's of all the details of the clinics for each province"
   ]
  },
  {
   "cell_type": "code",
   "execution_count": 86,
   "metadata": {},
   "outputs": [],
   "source": [
    "def scrape_clinics(province_url, csv_name):\n",
    "    '''\n",
    "    Scrapes data about each clinic listed in \"province_url\", and saves the data to \"csv_name\"\n",
    "    \n",
    "    '''\n",
    "    page_num = 0\n",
    "    base_url = 'https://www.healthsites.org.za' \n",
    "    nxt_url = '1'\n",
    "    clinics = []\n",
    "    \n",
    "    while nxt_url:\n",
    "        if not page_num:\n",
    "            res = requests.get(province_url)\n",
    "        else:\n",
    "            res = requests.get(province_url+nxt_url)\n",
    "        print(f'now scraping {page_num+1}: {eastern_cape_url}{nxt_url} ...')\n",
    "        soup = BeautifulSoup(res.text, \"html.parser\")\n",
    "\n",
    "        divs = soup.select('.node-business')\n",
    "        for div in divs:\n",
    "            h2 = div.find(\"h2\")\n",
    "            name = h2.get_text()\n",
    "            adress = div.find(class_=\"field-item even\").get_text()\n",
    "            url = h2.find(\"a\")[\"href\"]\n",
    "            print(name)\n",
    "        \n",
    "            # get further details from clinic page\n",
    "            subres = requests.get(base_url+url)\n",
    "            subsoup = BeautifulSoup(subres.text, \"html.parser\")\n",
    "            try:\n",
    "                contactno = subsoup.find(class_=\"field-name-field-contact-dtails\").find(class_=\"field-item\").get_text()\n",
    "            except:\n",
    "                contactno = None\n",
    "            try:\n",
    "                gps = subsoup.find(class_=\"field-name-field-combined-gps-coordinates\").find(class_=\"field-item\").get_text()\n",
    "            except:\n",
    "                gps = None\n",
    "        \n",
    "            # append dict of data to list\n",
    "            clinics.append({\n",
    "                'name' : name,\n",
    "                'adress' : adress,\n",
    "                'telephone' : contactno,\n",
    "                'gps' : gps,\n",
    "            })\n",
    "            sleep(1)\n",
    "        \n",
    "        # locate \"next\" button link\n",
    "        nxt_btn = soup.find(class_=\"next\")    \n",
    "        nxt_url = nxt_btn.find(\"a\")[\"href\"] if nxt_btn else None\n",
    "        page_num += 1\n",
    "        sleep(1)\n",
    "\n",
    "    df = pd.DataFrame(clinics)\n",
    "    df = df[['name', 'telephone', 'adress', 'gps', 'lattitude', 'longitude']]\n",
    "    df.to_csv(f'{csv_name}.csv', index=0)"
   ]
  },
  {
   "cell_type": "code",
   "execution_count": null,
   "metadata": {},
   "outputs": [
    {
     "name": "stdout",
     "output_type": "stream",
     "text": [
      "\n",
      "Scraping northern_cape_clinics\n",
      "~~~_____________________________________________________~~~\n",
      "now scraping 1: https://www.healthsites.org.za/clinics-in-eastern-cape.html?field_category_tid=36620&widget-service=36620&widget-province=229501 ...\n",
      " Abraham Esau Hospital\n",
      " Age-in-Action - De Aar, Northern Cape\n",
      " Age-in-Action - Upington, Northern Cape\n",
      " Alexander Bay Clinic\n",
      " Alexander Bay Community Health Centre\n",
      " Alexander Bay Youth Development Centre\n",
      " Britstown Clinic\n",
      " Carnarvon Community Health Centre\n",
      " Catherine Koi Koi Clinic\n",
      " Child Welfare South Africa - Douglas\n",
      " Child Welfare South Africa - Keimoes\n",
      " City Clinic\n",
      " De Aar Hospital\n",
      " Department of Justice and Constitutional Development, Office of the Family Advocate - Kimberley\n",
      " Diamond Gay and Lesbians - Kimberely\n",
      " Dikgatlong Local Municipality\n",
      " Dingleton Clinic\n",
      " Douglas Community Health Centre\n",
      " Ethembeni Community and Trauma Centre\n",
      " Ga-Segonyana Local Municipality\n",
      " Gadiboe Clinic\n",
      " Galeshewe Community Health Clinic\n",
      " Gamagara Local Municipality\n",
      " Gatyenis Advice Paralegal Office\n",
      " Genesis\n",
      " Griekwastad Community Health Centre\n",
      " Hanover Clinic\n",
      " Hartswater Hospital\n",
      " House of Joy\n",
      " Inawe Community Development Centre\n",
      " Jan Kempdorp Community Health Centre\n",
      " Joe Morolong Local Municipality\n",
      " Joe Slovo Hospital\n",
      " Jog'bed - Umephi\n",
      " John Taolo Gaetsewe District Municipality\n",
      " Kagalopele Social Development Forum - Phedisanang PCP\n",
      " Kakamas Hospital\n",
      " Kalksloot Clinic\n",
      " Kamieskroon Clinic\n",
      " Kareesberg Home-Based Care\n",
      " Keimoes Clinic\n",
      " Keimoes Community Health Centre\n",
      " Kenhardt Community Health Centre\n",
      " Kgatelopele Social Development Forum\n",
      " Kholekile Edward Twani Clinic\n",
      " Kimberley Hospital\n",
      " Kuruman Hospital\n",
      " Laxey Clinic\n",
      " Leliefontein Clinic\n",
      " LifeLine Centre - Kimberley\n",
      "now scraping 2: https://www.healthsites.org.za/clinics-in-eastern-cape.html?field_category_tid=36620&widget-service=36620&widget-province=22950/clinics-in-northern-cape.html?field_category_tid=36620&widget-service=36620&widget-province=31856&page=1 ...\n",
      " Lingelethu Clinic\n",
      " Louisvale Clinic\n",
      " Lowryville Clinic\n",
      " Madoyle Clinic\n",
      " Maggie Samboer Hospice\n",
      " Manne Dipico Hospital\n",
      " Masakhane Clinic - Northern Cape\n",
      " Masibamane Men's Organisation\n",
      " NG Welsyn/NG Welfare - Northern Cape\n",
      " Northern Cape AIDS Forum\n",
      " Okiep Clinic\n",
      " Phedisanang Home-Based Care\n",
      " Postmasburg Hospital\n",
      " Prieska Clinic\n",
      " Prieska Hospital\n",
      " Professor ZK Mathews Hospital\n",
      " Re-Action! Consulting - Northern Cape\n",
      " Renosterberg Gemeenskap Projek\n",
      " Richtersveld Local Municipality\n",
      " Siyancuma Local Municipality\n",
      " South African Police Service Family Violence, Child Protection and Sexual Offences Unit - De Aar\n",
      " South African Police Service Family Violence, Child Protection and Sexual Offences Unit - Springbok\n",
      " Springbok Hospital\n",
      " The Helen Bishop Orthopaedic After-Care Home\n",
      " The Nightingale Hospice\n",
      " Thusong Service Centre - Galeshewe/Rethusaneng\n",
      " Thusong Service Centre - Manne Dipico/Pescodia\n",
      " Thuthuzela Care Centre - Dr van Niekerk Hospital, Springbok\n",
      " Thuthuzela Care Centre - Galeshewe Day Hospital, Galeshewe\n",
      " Thuthuzela Care Centre - Kuruman Hospital, Kuruman\n",
      " Tsantsabane Local Municipality\n",
      " Tsepong Centre\n",
      " Verenigende Gereformeerde Kerk - Kinder Herberg Trust\n",
      " Warrenton Hospital\n",
      " Women Empowerment Movement International\n",
      "\n",
      "Scraping western_cape_clinics\n",
      "~~~_____________________________________________________~~~\n",
      "now scraping 1: https://www.healthsites.org.za/clinics-in-eastern-cape.html?field_category_tid=36620&widget-service=36620&widget-province=229501 ...\n",
      " Abba Family Counselling Centre\n",
      " Abigail Women's Movement\n",
      " Afrikaanse Christelike Vroue Vereeniging - Azaleahof Bewaarskool\n",
      " Afrikaanse Christelike Vroue Vereeniging - Bredasdorp\n",
      " Afrikaanse Christelike Vroue Vereeniging - Cape Town\n",
      " Afrikaanse Christelike Vroue Vereeniging - Noorde-Paarl\n",
      " Age-in-Action - Western Cape Provincial Office\n",
      " Alan Blyth Hospital\n",
      " Albertinia Clinic\n",
      " Albertinia Mobile Clinic\n",
      " Annie Brown Clinic\n",
      " Arisen Women Foundation\n",
      " Baphumelele Respite Care Centre\n",
      " Barrydale Clinic\n",
      " Barrydale Mobile Clinic\n",
      " Beaufort West Community Day-Care Centre\n",
      " Bella Vista Clinic\n",
      " Bellville Reproductive Health Clinic\n",
      " Bethesda Medical Service and Relief\n",
      " Blue Downs Clinic\n",
      " Breede River Hospice - Robertson\n",
      " Brewelskloof Hospital\n",
      " Browns Farm Community Health Centre\n",
      " Buffeljags River Clinic\n",
      " Caledon Mobile 2\n",
      " Cape Peninsula University of Technology Campus Health Clinic - Bellville Campus\n",
      " Catholic Welfare and Development - Cape Town\n",
      " Cheshire Homes South Africa - Eric Miles\n",
      " Child and Adolescence Psychiatry Unit\n",
      " Child Welfare South Africa - Bredasdorp\n",
      " Child Welfare South Africa - Heidelberg\n",
      " Child Welfare South Africa - Hermanus\n",
      " Child Welfare South Africa - Kleinmond\n",
      " Child Welfare South Africa - Lamberts Bay\n",
      " Child Welfare South Africa - Oudtshoorn\n",
      " Child Welfare South Africa - Paarl\n",
      " Christine Revell Children's Home\n",
      " Citrusdal Hospital\n",
      " City of Cape Town HIV and AIDS Workplace Programme\n",
      " Clanwilliam Clinic\n",
      " Clanwilliam Hospital\n",
      " Cloetesville Community Health Centre\n",
      " Community Builders\n",
      " Community Survivors Outreach Forum\n",
      " Community Workers for the People\n"
     ]
    }
   ],
   "source": [
    "for province_url, csv_name in zip (province_urls, csv_names):\n",
    "    print()\n",
    "    print(f'Scraping {csv_name}')\n",
    "    print('~~~_____________________________________________________~~~')\n",
    "    scrape_clinics(province_url, csv_name)"
   ]
  },
  {
   "cell_type": "code",
   "execution_count": null,
   "metadata": {},
   "outputs": [],
   "source": []
  }
 ],
 "metadata": {
  "kernelspec": {
   "display_name": "Python 3",
   "language": "python",
   "name": "python3"
  },
  "language_info": {
   "codemirror_mode": {
    "name": "ipython",
    "version": 3
   },
   "file_extension": ".py",
   "mimetype": "text/x-python",
   "name": "python",
   "nbconvert_exporter": "python",
   "pygments_lexer": "ipython3",
   "version": "3.6.5"
  }
 },
 "nbformat": 4,
 "nbformat_minor": 2
}
